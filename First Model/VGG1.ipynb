{
  "nbformat": 4,
  "nbformat_minor": 5,
  "metadata": {
    "kernelspec": {
      "display_name": "Python 3",
      "language": "python",
      "name": "python3"
    },
    "language_info": {
      "codemirror_mode": {
        "name": "ipython",
        "version": 3
      },
      "file_extension": ".py",
      "mimetype": "text/x-python",
      "name": "python",
      "nbconvert_exporter": "python",
      "pygments_lexer": "ipython3",
      "version": "3.8.8"
    },
    "colab": {
      "name": "VGG1.ipynb",
      "provenance": [],
      "collapsed_sections": [],
      "include_colab_link": true
    },
    "widgets": {
      "application/vnd.jupyter.widget-state+json": {
        "9a52f054bbe24d89880b84144c504aaf": {
          "model_module": "@jupyter-widgets/controls",
          "model_name": "HBoxModel",
          "model_module_version": "1.5.0",
          "state": {
            "_view_name": "HBoxView",
            "_dom_classes": [],
            "_model_name": "HBoxModel",
            "_view_module": "@jupyter-widgets/controls",
            "_model_module_version": "1.5.0",
            "_view_count": null,
            "_view_module_version": "1.5.0",
            "box_style": "",
            "layout": "IPY_MODEL_8a933b6b030a41b79c6800ab3c3a6a49",
            "_model_module": "@jupyter-widgets/controls",
            "children": [
              "IPY_MODEL_c25d0bb8f8354c3d8adefad6066ae8f2",
              "IPY_MODEL_f82f90ac8cef49b8a58391153ba733bd",
              "IPY_MODEL_51ab64a32e3341a4b4388246caba0411"
            ]
          }
        },
        "8a933b6b030a41b79c6800ab3c3a6a49": {
          "model_module": "@jupyter-widgets/base",
          "model_name": "LayoutModel",
          "model_module_version": "1.2.0",
          "state": {
            "_view_name": "LayoutView",
            "grid_template_rows": null,
            "right": null,
            "justify_content": null,
            "_view_module": "@jupyter-widgets/base",
            "overflow": null,
            "_model_module_version": "1.2.0",
            "_view_count": null,
            "flex_flow": null,
            "width": null,
            "min_width": null,
            "border": null,
            "align_items": null,
            "bottom": null,
            "_model_module": "@jupyter-widgets/base",
            "top": null,
            "grid_column": null,
            "overflow_y": null,
            "overflow_x": null,
            "grid_auto_flow": null,
            "grid_area": null,
            "grid_template_columns": null,
            "flex": null,
            "_model_name": "LayoutModel",
            "justify_items": null,
            "grid_row": null,
            "max_height": null,
            "align_content": null,
            "visibility": null,
            "align_self": null,
            "height": null,
            "min_height": null,
            "padding": null,
            "grid_auto_rows": null,
            "grid_gap": null,
            "max_width": null,
            "order": null,
            "_view_module_version": "1.2.0",
            "grid_template_areas": null,
            "object_position": null,
            "object_fit": null,
            "grid_auto_columns": null,
            "margin": null,
            "display": null,
            "left": null
          }
        },
        "c25d0bb8f8354c3d8adefad6066ae8f2": {
          "model_module": "@jupyter-widgets/controls",
          "model_name": "HTMLModel",
          "model_module_version": "1.5.0",
          "state": {
            "_view_name": "HTMLView",
            "style": "IPY_MODEL_50fd2e90fc9e4c7d9eac8d5572ac3953",
            "_dom_classes": [],
            "description": "",
            "_model_name": "HTMLModel",
            "placeholder": "​",
            "_view_module": "@jupyter-widgets/controls",
            "_model_module_version": "1.5.0",
            "value": "",
            "_view_count": null,
            "_view_module_version": "1.5.0",
            "description_tooltip": null,
            "_model_module": "@jupyter-widgets/controls",
            "layout": "IPY_MODEL_bcff3619cfa74c9b883eb2d642062b62"
          }
        },
        "f82f90ac8cef49b8a58391153ba733bd": {
          "model_module": "@jupyter-widgets/controls",
          "model_name": "FloatProgressModel",
          "model_module_version": "1.5.0",
          "state": {
            "_view_name": "ProgressView",
            "style": "IPY_MODEL_33878719deb84f41a0a83410e13d4f70",
            "_dom_classes": [],
            "description": "",
            "_model_name": "FloatProgressModel",
            "bar_style": "success",
            "max": 170498071,
            "_view_module": "@jupyter-widgets/controls",
            "_model_module_version": "1.5.0",
            "value": 170498071,
            "_view_count": null,
            "_view_module_version": "1.5.0",
            "orientation": "horizontal",
            "min": 0,
            "description_tooltip": null,
            "_model_module": "@jupyter-widgets/controls",
            "layout": "IPY_MODEL_d5fefd541b35424485a3090ef0770aba"
          }
        },
        "51ab64a32e3341a4b4388246caba0411": {
          "model_module": "@jupyter-widgets/controls",
          "model_name": "HTMLModel",
          "model_module_version": "1.5.0",
          "state": {
            "_view_name": "HTMLView",
            "style": "IPY_MODEL_1a371cc95ae34c629ec3c8ee902cf905",
            "_dom_classes": [],
            "description": "",
            "_model_name": "HTMLModel",
            "placeholder": "​",
            "_view_module": "@jupyter-widgets/controls",
            "_model_module_version": "1.5.0",
            "value": " 170499072/? [00:03&lt;00:00, 55531281.52it/s]",
            "_view_count": null,
            "_view_module_version": "1.5.0",
            "description_tooltip": null,
            "_model_module": "@jupyter-widgets/controls",
            "layout": "IPY_MODEL_add7ea87e134432d896d1e043d2a449a"
          }
        },
        "50fd2e90fc9e4c7d9eac8d5572ac3953": {
          "model_module": "@jupyter-widgets/controls",
          "model_name": "DescriptionStyleModel",
          "model_module_version": "1.5.0",
          "state": {
            "_view_name": "StyleView",
            "_model_name": "DescriptionStyleModel",
            "description_width": "",
            "_view_module": "@jupyter-widgets/base",
            "_model_module_version": "1.5.0",
            "_view_count": null,
            "_view_module_version": "1.2.0",
            "_model_module": "@jupyter-widgets/controls"
          }
        },
        "bcff3619cfa74c9b883eb2d642062b62": {
          "model_module": "@jupyter-widgets/base",
          "model_name": "LayoutModel",
          "model_module_version": "1.2.0",
          "state": {
            "_view_name": "LayoutView",
            "grid_template_rows": null,
            "right": null,
            "justify_content": null,
            "_view_module": "@jupyter-widgets/base",
            "overflow": null,
            "_model_module_version": "1.2.0",
            "_view_count": null,
            "flex_flow": null,
            "width": null,
            "min_width": null,
            "border": null,
            "align_items": null,
            "bottom": null,
            "_model_module": "@jupyter-widgets/base",
            "top": null,
            "grid_column": null,
            "overflow_y": null,
            "overflow_x": null,
            "grid_auto_flow": null,
            "grid_area": null,
            "grid_template_columns": null,
            "flex": null,
            "_model_name": "LayoutModel",
            "justify_items": null,
            "grid_row": null,
            "max_height": null,
            "align_content": null,
            "visibility": null,
            "align_self": null,
            "height": null,
            "min_height": null,
            "padding": null,
            "grid_auto_rows": null,
            "grid_gap": null,
            "max_width": null,
            "order": null,
            "_view_module_version": "1.2.0",
            "grid_template_areas": null,
            "object_position": null,
            "object_fit": null,
            "grid_auto_columns": null,
            "margin": null,
            "display": null,
            "left": null
          }
        },
        "33878719deb84f41a0a83410e13d4f70": {
          "model_module": "@jupyter-widgets/controls",
          "model_name": "ProgressStyleModel",
          "model_module_version": "1.5.0",
          "state": {
            "_view_name": "StyleView",
            "_model_name": "ProgressStyleModel",
            "description_width": "",
            "_view_module": "@jupyter-widgets/base",
            "_model_module_version": "1.5.0",
            "_view_count": null,
            "_view_module_version": "1.2.0",
            "bar_color": null,
            "_model_module": "@jupyter-widgets/controls"
          }
        },
        "d5fefd541b35424485a3090ef0770aba": {
          "model_module": "@jupyter-widgets/base",
          "model_name": "LayoutModel",
          "model_module_version": "1.2.0",
          "state": {
            "_view_name": "LayoutView",
            "grid_template_rows": null,
            "right": null,
            "justify_content": null,
            "_view_module": "@jupyter-widgets/base",
            "overflow": null,
            "_model_module_version": "1.2.0",
            "_view_count": null,
            "flex_flow": null,
            "width": null,
            "min_width": null,
            "border": null,
            "align_items": null,
            "bottom": null,
            "_model_module": "@jupyter-widgets/base",
            "top": null,
            "grid_column": null,
            "overflow_y": null,
            "overflow_x": null,
            "grid_auto_flow": null,
            "grid_area": null,
            "grid_template_columns": null,
            "flex": null,
            "_model_name": "LayoutModel",
            "justify_items": null,
            "grid_row": null,
            "max_height": null,
            "align_content": null,
            "visibility": null,
            "align_self": null,
            "height": null,
            "min_height": null,
            "padding": null,
            "grid_auto_rows": null,
            "grid_gap": null,
            "max_width": null,
            "order": null,
            "_view_module_version": "1.2.0",
            "grid_template_areas": null,
            "object_position": null,
            "object_fit": null,
            "grid_auto_columns": null,
            "margin": null,
            "display": null,
            "left": null
          }
        },
        "1a371cc95ae34c629ec3c8ee902cf905": {
          "model_module": "@jupyter-widgets/controls",
          "model_name": "DescriptionStyleModel",
          "model_module_version": "1.5.0",
          "state": {
            "_view_name": "StyleView",
            "_model_name": "DescriptionStyleModel",
            "description_width": "",
            "_view_module": "@jupyter-widgets/base",
            "_model_module_version": "1.5.0",
            "_view_count": null,
            "_view_module_version": "1.2.0",
            "_model_module": "@jupyter-widgets/controls"
          }
        },
        "add7ea87e134432d896d1e043d2a449a": {
          "model_module": "@jupyter-widgets/base",
          "model_name": "LayoutModel",
          "model_module_version": "1.2.0",
          "state": {
            "_view_name": "LayoutView",
            "grid_template_rows": null,
            "right": null,
            "justify_content": null,
            "_view_module": "@jupyter-widgets/base",
            "overflow": null,
            "_model_module_version": "1.2.0",
            "_view_count": null,
            "flex_flow": null,
            "width": null,
            "min_width": null,
            "border": null,
            "align_items": null,
            "bottom": null,
            "_model_module": "@jupyter-widgets/base",
            "top": null,
            "grid_column": null,
            "overflow_y": null,
            "overflow_x": null,
            "grid_auto_flow": null,
            "grid_area": null,
            "grid_template_columns": null,
            "flex": null,
            "_model_name": "LayoutModel",
            "justify_items": null,
            "grid_row": null,
            "max_height": null,
            "align_content": null,
            "visibility": null,
            "align_self": null,
            "height": null,
            "min_height": null,
            "padding": null,
            "grid_auto_rows": null,
            "grid_gap": null,
            "max_width": null,
            "order": null,
            "_view_module_version": "1.2.0",
            "grid_template_areas": null,
            "object_position": null,
            "object_fit": null,
            "grid_auto_columns": null,
            "margin": null,
            "display": null,
            "left": null
          }
        }
      }
    },
    "accelerator": "GPU"
  },
  "cells": [
    {
      "cell_type": "markdown",
      "metadata": {
        "id": "view-in-github",
        "colab_type": "text"
      },
      "source": [
        "<a href=\"https://colab.research.google.com/github/egesendogan/CIFAR-10-Classification-Using-PyTorch/blob/main/First%20Model/VGG1.ipynb\" target=\"_parent\"><img src=\"https://colab.research.google.com/assets/colab-badge.svg\" alt=\"Open In Colab\"/></a>"
      ]
    },
    {
      "cell_type": "code",
      "metadata": {
        "id": "d7334b7b"
      },
      "source": [
        "import os\n",
        "import torch\n",
        "import torchvision\n",
        "import torchvision.transforms as transforms "
      ],
      "id": "d7334b7b",
      "execution_count": null,
      "outputs": []
    },
    {
      "cell_type": "code",
      "metadata": {
        "colab": {
          "base_uri": "https://localhost:8080/",
          "height": 100,
          "referenced_widgets": [
            "9a52f054bbe24d89880b84144c504aaf",
            "8a933b6b030a41b79c6800ab3c3a6a49",
            "c25d0bb8f8354c3d8adefad6066ae8f2",
            "f82f90ac8cef49b8a58391153ba733bd",
            "51ab64a32e3341a4b4388246caba0411",
            "50fd2e90fc9e4c7d9eac8d5572ac3953",
            "bcff3619cfa74c9b883eb2d642062b62",
            "33878719deb84f41a0a83410e13d4f70",
            "d5fefd541b35424485a3090ef0770aba",
            "1a371cc95ae34c629ec3c8ee902cf905",
            "add7ea87e134432d896d1e043d2a449a"
          ]
        },
        "id": "6N9-LqNNmn2_",
        "outputId": "432195e4-232e-4265-9e82-66c83a6af8d9"
      },
      "source": [
        "transform = transforms.Compose([transforms.ToTensor(),transforms.Normalize((0.5,0.5,0.5),(0.5,0.5,0.5))])\n",
        "batch_size = 64\n",
        "\n",
        "train_set = torchvision.datasets.CIFAR10(root='./data', train=True, download=True, transform=transform)\n",
        "train_loader = torch.utils.data.DataLoader(train_set,batch_size=batch_size,shuffle=True,num_workers=2)\n",
        "\n",
        "test_set = torchvision.datasets.CIFAR10(root='./data',train=False,download=True,transform=transform)\n",
        "test_loader = torch.utils.data.DataLoader(test_set,batch_size=batch_size,shuffle=False,num_workers=2)\n",
        "\n",
        "dataloaders = {'train':torch.utils.data.DataLoader(train_set,batch_size=batch_size,shuffle=True,num_workers=2),\n",
        "               'test': torch.utils.data.DataLoader(test_set,batch_size=batch_size,shuffle=False,num_workers=2)}\n",
        "\n",
        "dataset_sizes = {'train':50000,'test':10000}\n",
        "\n",
        "classes = ('plane', 'car', 'bird', 'cat','deer', 'dog', 'frog', 'horse', 'ship', 'truck')"
      ],
      "id": "6N9-LqNNmn2_",
      "execution_count": null,
      "outputs": [
        {
          "output_type": "stream",
          "name": "stdout",
          "text": [
            "Downloading https://www.cs.toronto.edu/~kriz/cifar-10-python.tar.gz to ./data/cifar-10-python.tar.gz\n"
          ]
        },
        {
          "output_type": "display_data",
          "data": {
            "application/vnd.jupyter.widget-view+json": {
              "model_id": "9a52f054bbe24d89880b84144c504aaf",
              "version_minor": 0,
              "version_major": 2
            },
            "text/plain": [
              "  0%|          | 0/170498071 [00:00<?, ?it/s]"
            ]
          },
          "metadata": {}
        },
        {
          "output_type": "stream",
          "name": "stdout",
          "text": [
            "Extracting ./data/cifar-10-python.tar.gz to ./data\n",
            "Files already downloaded and verified\n"
          ]
        }
      ]
    },
    {
      "cell_type": "code",
      "metadata": {
        "colab": {
          "base_uri": "https://localhost:8080/",
          "height": 999
        },
        "id": "bKwiPft8ocut",
        "outputId": "1dae3d41-e6bf-4d89-ef79-d69ad0165ce4"
      },
      "source": [
        "import matplotlib.pyplot as plt\n",
        "import numpy as np\n",
        "\n",
        "# functions to show an image\n",
        "\n",
        "\n",
        "def imshow(img):\n",
        "    img = img / 2 + 0.5     # unnormalize\n",
        "    npimg = img.numpy()\n",
        "    plt.imshow(np.transpose(npimg, (1, 2, 0)))\n",
        "    plt.show()\n",
        "\n",
        "\n",
        "# get some random training images\n",
        "dataiter = iter(train_loader)\n",
        "images, labels = dataiter.next()\n",
        "\n",
        "# Afficher les images et les labels\n",
        "fig = plt.figure(figsize=(25, 4))\n",
        "for idx in np.arange(4) : \n",
        "  axe = fig.add_subplot(1, 4, idx+1, xticks=[], yticks=[])\n",
        "  imshow(images[idx])\n",
        "  axe.set_title(classes[labels[idx]])"
      ],
      "id": "bKwiPft8ocut",
      "execution_count": null,
      "outputs": [
        {
          "output_type": "display_data",
          "data": {
            "image/png": "[encoded data removed]",
            "text/plain": [
              "<Figure size 1800x288 with 1 Axes>"
            ]
          },
          "metadata": {}
        },
        {
          "output_type": "display_data",
          "data": {
            "image/png": "[encoded data removed]",
            "text/plain": [
              "<Figure size 432x288 with 1 Axes>"
            ]
          },
          "metadata": {
            "needs_background": "light"
          }
        },
        {
          "output_type": "display_data",
          "data": {
            "image/png": "[encoded data removed]",
            "text/plain": [
              "<Figure size 432x288 with 1 Axes>"
            ]
          },
          "metadata": {
            "needs_background": "light"
          }
        },
        {
          "output_type": "display_data",
          "data": {
            "image/png": "[encoded data removed]",
            "text/plain": [
              "<Figure size 432x288 with 1 Axes>"
            ]
          },
          "metadata": {
            "needs_background": "light"
          }
        }
      ]
    },
    {
      "cell_type": "markdown",
      "metadata": {
        "id": "VsXJiooqtN6d"
      },
      "source": [
        "# Models"
      ],
      "id": "VsXJiooqtN6d"
    },
    {
      "cell_type": "markdown",
      "metadata": {
        "id": "SWSnvYjwtcla"
      },
      "source": [
        "\n",
        "\n",
        "1. Baseline: VGG Block\n"
      ],
      "id": "SWSnvYjwtcla"
    },
    {
      "cell_type": "code",
      "metadata": {
        "id": "PoU-SqMetssm"
      },
      "source": [
        "import torch.nn as nn\n",
        "import torch.nn.functional as F"
      ],
      "id": "PoU-SqMetssm",
      "execution_count": null,
      "outputs": []
    },
    {
      "cell_type": "code",
      "metadata": {
        "id": "NtBFRTfutzrV"
      },
      "source": [
        "#model.add(Conv2D(32 --> output size , (3, 3) --> kernel size)\n",
        "class VGG_1block(nn.Module):\n",
        "  def __init__(self):\n",
        "    super().__init__()\n",
        "    #conv layers\n",
        "    self.conv_layers = nn.Sequential(nn.Conv2d(3,32,kernel_size=3,padding=1),\n",
        "                                     nn.ReLU(),\n",
        "                                     #nn.MaxPool2d(2,2),\n",
        "                                     nn.Conv2d(32,32,kernel_size=3,padding=1),\n",
        "                                     nn.ReLU(),\n",
        "                                     nn.MaxPool2d(2,2)\n",
        "                                     )\n",
        "    \n",
        "    # fc layers 32*16*16\n",
        "    self.fc_layers = nn.Sequential(nn.Linear(in_features=32*16*16,out_features=128),\n",
        "                                   nn.Linear(in_features=128,out_features=10))\n",
        "\n",
        "  def forward(self,x):\n",
        "    x = self.conv_layers(x)\n",
        "    x = torch.flatten(x, 1)\n",
        "    x = self.fc_layers(x)\n",
        "    return x\n",
        "\n",
        "vgg_1block_network = VGG_1block()"
      ],
      "id": "NtBFRTfutzrV",
      "execution_count": null,
      "outputs": []
    },
    {
      "cell_type": "markdown",
      "metadata": {
        "id": "I5Fognbq52dm"
      },
      "source": [
        "2. Loss Function and Optimizer\n",
        "\n"
      ],
      "id": "I5Fognbq52dm"
    },
    {
      "cell_type": "code",
      "metadata": {
        "id": "_K351vgG5CM8"
      },
      "source": [
        "import torch.optim as optim\n",
        "\n",
        "loss = nn.CrossEntropyLoss()\n",
        "optimizer = optim.SGD(vgg_1block_network.parameters(),lr=0.001,momentum=0.9)"
      ],
      "id": "_K351vgG5CM8",
      "execution_count": null,
      "outputs": []
    },
    {
      "cell_type": "markdown",
      "metadata": {
        "id": "97FoqgPm6hYF"
      },
      "source": [
        "3. Training"
      ],
      "id": "97FoqgPm6hYF"
    },
    {
      "cell_type": "code",
      "metadata": {
        "id": "oamOETMB6mi8"
      },
      "source": [
        "\"\"\"for epoch in range(25):\n",
        "  running_loss = 0.0\n",
        "  for i, data in enumerate(train_loader,0):\n",
        "    inputs,labels = data\n",
        "    optimizer.zero_grad()\n",
        "    outputs = vgg_1block_network(inputs)\n",
        "    _loss = loss(outputs, labels)\n",
        "    _loss.backward()\n",
        "    optimizer.step()\n",
        "\n",
        "    running_loss += _loss.item()\n",
        "    if i % 2000 == 1999:    # print every 2000 mini-batches\n",
        "      print('[%d, %5d] loss: %.3f' %(epoch + 1, i + 1, running_loss / 2000))\n",
        "      running_loss = 0.0\n",
        "\n",
        "print('Finished Training')\"\"\""
      ],
      "id": "oamOETMB6mi8",
      "execution_count": null,
      "outputs": []
    },
    {
      "cell_type": "code",
      "metadata": {
        "id": "ao81UflY_ub2"
      },
      "source": [
        "import time\n",
        "import copy"
      ],
      "id": "ao81UflY_ub2",
      "execution_count": null,
      "outputs": []
    },
    {
      "cell_type": "code",
      "metadata": {
        "colab": {
          "base_uri": "https://localhost:8080/"
        },
        "id": "9WKpdb6X-RHP",
        "outputId": "c6d753d4-9822-4d80-be56-232542e77582"
      },
      "source": [
        "since = time.time()\n",
        "\n",
        "best_acc = 0.0\n",
        "\n",
        "all_loss = {'train':[],'test':[]}\n",
        "all_acc = {'train':[],'test':[]}\n",
        "\n",
        "for epoch in range(25):\n",
        "  print('Epoch {}/{}'.format(epoch, 25 - 1))\n",
        "  print('-' * 10)\n",
        "\n",
        "  # Each epoch has a training and validation phase\n",
        "  for phase in ['train', 'test']:\n",
        "    if phase == 'train':\n",
        "      vgg_1block_network.train()  # Set model to training mode\n",
        "    else:\n",
        "      vgg_1block_network.eval()   # Set model to evaluate mode\n",
        "\n",
        "    running_loss = 0.0\n",
        "    running_corrects = 0\n",
        "\n",
        "    # Iterate over data.\n",
        "    for inputs, labels in dataloaders[phase]:\n",
        "\n",
        "      # zero the parameter gradients\n",
        "      optimizer.zero_grad()\n",
        "\n",
        "      # forward\n",
        "      # track history if only in train\n",
        "      with torch.set_grad_enabled(phase == 'train'):\n",
        "        outputs = vgg_1block_network(inputs)\n",
        "        _, preds = torch.max(outputs, 1)\n",
        "        _loss = loss(outputs, labels)\n",
        "\n",
        "        # backward + optimize only if in training phase\n",
        "        if phase == 'train':\n",
        "          _loss.backward()\n",
        "          optimizer.step()\n",
        "\n",
        "      # statistics\n",
        "      running_loss += _loss.item() * inputs.size(0)\n",
        "      running_corrects += torch.sum(preds == labels.data)  \n",
        "\n",
        "    epoch_loss = running_loss / dataset_sizes[phase]\n",
        "    epoch_acc = running_corrects.double() / dataset_sizes[phase]\n",
        "\n",
        "    all_loss[phase].append(epoch_loss)\n",
        "    all_acc[phase].append(epoch_acc)\n",
        "\n",
        "    print('{} Loss: {:.4f} Acc: {:.4f}'.format(phase, epoch_loss, epoch_acc))\n",
        "\n",
        "    # deep copy the model\n",
        "    if phase == 'test' and epoch_acc > best_acc:\n",
        "      best_acc = epoch_acc\n",
        "      best_model_wts = copy.deepcopy(vgg_1block_network.state_dict())\n",
        "    \n",
        "    print()\n",
        "\n",
        "  time_elapsed = time.time() - since\n",
        "  \n",
        "print('Training complete in {:.0f}m {:.0f}s'.format(time_elapsed // 60, time_elapsed % 60))\n",
        "print('Best val Acc: {:4f}'.format(best_acc))\n",
        "\n",
        "vgg_1block_network.load_state_dict(best_model_wts)"
      ],
      "id": "9WKpdb6X-RHP",
      "execution_count": null,
      "outputs": [
        {
          "output_type": "stream",
          "name": "stdout",
          "text": [
            "Epoch 0/24\n",
            "----------\n",
            "train Loss: 1.9698 Acc: 0.3052\n",
            "\n",
            "test Loss: 1.7335 Acc: 0.3881\n",
            "\n",
            "Epoch 1/24\n",
            "----------\n",
            "train Loss: 1.6343 Acc: 0.4296\n",
            "\n",
            "test Loss: 1.5339 Acc: 0.4627\n",
            "\n",
            "Epoch 2/24\n",
            "----------\n",
            "train Loss: 1.4553 Acc: 0.4860\n",
            "\n",
            "test Loss: 1.3815 Acc: 0.5038\n",
            "\n",
            "Epoch 3/24\n",
            "----------\n",
            "train Loss: 1.3224 Acc: 0.5321\n",
            "\n",
            "test Loss: 1.2872 Acc: 0.5383\n",
            "\n",
            "Epoch 4/24\n",
            "----------\n",
            "train Loss: 1.2313 Acc: 0.5689\n",
            "\n",
            "test Loss: 1.2235 Acc: 0.5614\n",
            "\n",
            "Epoch 5/24\n",
            "----------\n",
            "train Loss: 1.1560 Acc: 0.5956\n",
            "\n",
            "test Loss: 1.1611 Acc: 0.5893\n",
            "\n",
            "Epoch 6/24\n",
            "----------\n",
            "train Loss: 1.0910 Acc: 0.6183\n",
            "\n",
            "test Loss: 1.1086 Acc: 0.6047\n",
            "\n",
            "Epoch 7/24\n",
            "----------\n",
            "train Loss: 1.0309 Acc: 0.6406\n",
            "\n",
            "test Loss: 1.0761 Acc: 0.6231\n",
            "\n",
            "Epoch 8/24\n",
            "----------\n",
            "train Loss: 0.9869 Acc: 0.6548\n",
            "\n",
            "test Loss: 1.0702 Acc: 0.6215\n",
            "\n",
            "Epoch 9/24\n",
            "----------\n",
            "train Loss: 0.9470 Acc: 0.6703\n",
            "\n",
            "test Loss: 1.0258 Acc: 0.6446\n",
            "\n",
            "Epoch 10/24\n",
            "----------\n",
            "train Loss: 0.9128 Acc: 0.6849\n",
            "\n",
            "test Loss: 1.0295 Acc: 0.6408\n",
            "\n",
            "Epoch 11/24\n",
            "----------\n",
            "train Loss: 0.8789 Acc: 0.6940\n",
            "\n",
            "test Loss: 1.0097 Acc: 0.6477\n",
            "\n",
            "Epoch 12/24\n",
            "----------\n",
            "train Loss: 0.8480 Acc: 0.7045\n",
            "\n",
            "test Loss: 0.9872 Acc: 0.6588\n",
            "\n",
            "Epoch 13/24\n",
            "----------\n",
            "train Loss: 0.8247 Acc: 0.7132\n",
            "\n",
            "test Loss: 0.9888 Acc: 0.6573\n",
            "\n",
            "Epoch 14/24\n",
            "----------\n",
            "train Loss: 0.8014 Acc: 0.7216\n",
            "\n",
            "test Loss: 0.9888 Acc: 0.6563\n",
            "\n",
            "Epoch 15/24\n",
            "----------\n",
            "train Loss: 0.7761 Acc: 0.7320\n",
            "\n",
            "test Loss: 0.9708 Acc: 0.6700\n",
            "\n",
            "Epoch 16/24\n",
            "----------\n",
            "train Loss: 0.7602 Acc: 0.7370\n",
            "\n",
            "test Loss: 0.9682 Acc: 0.6677\n",
            "\n",
            "Epoch 17/24\n",
            "----------\n",
            "train Loss: 0.7350 Acc: 0.7432\n",
            "\n",
            "test Loss: 0.9730 Acc: 0.6711\n",
            "\n",
            "Epoch 18/24\n",
            "----------\n",
            "train Loss: 0.7170 Acc: 0.7523\n",
            "\n",
            "test Loss: 0.9709 Acc: 0.6696\n",
            "\n",
            "Epoch 19/24\n",
            "----------\n",
            "train Loss: 0.6985 Acc: 0.7595\n",
            "\n",
            "test Loss: 0.9712 Acc: 0.6734\n",
            "\n",
            "Epoch 20/24\n",
            "----------\n",
            "train Loss: 0.6793 Acc: 0.7653\n",
            "\n",
            "test Loss: 1.0432 Acc: 0.6569\n",
            "\n",
            "Epoch 21/24\n",
            "----------\n",
            "train Loss: 0.6594 Acc: 0.7719\n",
            "\n",
            "test Loss: 0.9953 Acc: 0.6695\n",
            "\n",
            "Epoch 22/24\n",
            "----------\n",
            "train Loss: 0.6434 Acc: 0.7785\n",
            "\n",
            "test Loss: 1.0197 Acc: 0.6698\n",
            "\n",
            "Epoch 23/24\n",
            "----------\n",
            "train Loss: 0.6229 Acc: 0.7848\n",
            "\n",
            "test Loss: 1.0363 Acc: 0.6579\n",
            "\n",
            "Epoch 24/24\n",
            "----------\n",
            "train Loss: 0.6048 Acc: 0.7908\n",
            "\n",
            "test Loss: 1.0405 Acc: 0.6652\n",
            "\n",
            "Training complete in 47m 59s\n",
            "Best val Acc: 0.673400\n"
          ]
        },
        {
          "output_type": "execute_result",
          "data": {
            "text/plain": [
              "<All keys matched successfully>"
            ]
          },
          "metadata": {},
          "execution_count": 8
        }
      ]
    },
    {
      "cell_type": "code",
      "metadata": {
        "id": "ehb4D-C5z8kR"
      },
      "source": [
        "PATH2 = './vgg_1block2.pth'\n",
        "torch.save(vgg_1block_network.state_dict(), PATH2)"
      ],
      "id": "ehb4D-C5z8kR",
      "execution_count": null,
      "outputs": []
    },
    {
      "cell_type": "code",
      "metadata": {
        "id": "I05EOpdktUy5"
      },
      "source": [
        "import pickle\n",
        "\n",
        "a_file = open(\"data.pkl\", \"wb\")\n",
        "pickle.dump(all_loss, a_file)\n",
        "a_file.close()\n",
        "\n",
        "b_file = open(\"data2.pkl\", \"wb\")\n",
        "pickle.dump(all_acc, b_file)\n",
        "b_file.close()"
      ],
      "id": "I05EOpdktUy5",
      "execution_count": null,
      "outputs": []
    },
    {
      "cell_type": "code",
      "metadata": {
        "colab": {
          "base_uri": "https://localhost:8080/",
          "height": 295
        },
        "id": "1FcvJHBVxC6o",
        "outputId": "a2459bbd-6ab2-40c3-9516-01176a8f2f68"
      },
      "source": [
        "from matplotlib import pyplot as plt\n",
        "plt.plot(all_loss['train'])\n",
        "plt.plot(all_loss['test'])\n",
        "plt.title('model loss')\n",
        "plt.ylabel('loss')\n",
        "plt.xlabel('epoch')\n",
        "plt.legend(['train', 'test'], loc='upper left')\n",
        "plt.show()"
      ],
      "id": "1FcvJHBVxC6o",
      "execution_count": null,
      "outputs": [
        {
          "output_type": "display_data",
          "data": {
            "image/png": "[encoded data removed]",
            "text/plain": [
              "<Figure size 432x288 with 1 Axes>"
            ]
          },
          "metadata": {
            "needs_background": "light"
          }
        }
      ]
    },
    {
      "cell_type": "code",
      "metadata": {
        "colab": {
          "base_uri": "https://localhost:8080/",
          "height": 295
        },
        "id": "lso8jHDY2XK_",
        "outputId": "c4aae08f-bd7e-4948-923a-1464b7363610"
      },
      "source": [
        "plt.plot(all_acc['train'])\n",
        "plt.plot(all_acc['test'])\n",
        "plt.title('model accuracy')\n",
        "plt.ylabel('loss')\n",
        "plt.xlabel('epoch')\n",
        "plt.legend(['train', 'test'], loc='upper left')\n",
        "plt.show()"
      ],
      "id": "lso8jHDY2XK_",
      "execution_count": null,
      "outputs": [
        {
          "output_type": "display_data",
          "data": {
            "image/png": "[encoded data removed]",
            "text/plain": [
              "<Figure size 432x288 with 1 Axes>"
            ]
          },
          "metadata": {
            "needs_background": "light"
          }
        }
      ]
    },
    {
      "cell_type": "code",
      "metadata": {
        "colab": {
          "base_uri": "https://localhost:8080/"
        },
        "id": "dwv_nPzekLKf",
        "outputId": "547b05a9-8b03-4174-8d48-a3df026de04d"
      },
      "source": [
        "vgg_1 = VGG_1block()\n",
        "vgg_1.load_state_dict(torch.load(PATH2))"
      ],
      "id": "dwv_nPzekLKf",
      "execution_count": null,
      "outputs": [
        {
          "output_type": "execute_result",
          "data": {
            "text/plain": [
              "<All keys matched successfully>"
            ]
          },
          "metadata": {},
          "execution_count": 14
        }
      ]
    },
    {
      "cell_type": "code",
      "metadata": {
        "colab": {
          "base_uri": "https://localhost:8080/"
        },
        "id": "GEQNuiWflMmv",
        "outputId": "859619ad-b348-4d9b-f332-184156e9304f"
      },
      "source": [
        "correct = 0\n",
        "total = 0\n",
        "\n",
        "with torch.no_grad():\n",
        "  for data in test_loader:\n",
        "    images, labels = data\n",
        "    outputs = vgg_1(images)\n",
        "\n",
        "    _,predicted = torch.max(outputs.data,1)\n",
        "    total += labels.size(0)\n",
        "    correct += (predicted == labels).sum().item()\n",
        "\n",
        "print('Accuracy: %d %%' % (100 * correct / total))"
      ],
      "id": "GEQNuiWflMmv",
      "execution_count": null,
      "outputs": [
        {
          "output_type": "stream",
          "name": "stdout",
          "text": [
            "Accuracy: 67 %\n"
          ]
        }
      ]
    }
  ]
}